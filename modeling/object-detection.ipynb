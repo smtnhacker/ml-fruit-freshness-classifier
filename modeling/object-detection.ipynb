{
 "cells": [
  {
   "cell_type": "code",
   "execution_count": null,
   "id": "4b0c47bc",
   "metadata": {},
   "outputs": [],
   "source": [
    "import cv2\n",
    "\n",
    "stream = cv2.VideoCapture(0)"
   ]
  },
  {
   "cell_type": "code",
   "execution_count": null,
   "id": "a2aaae62",
   "metadata": {},
   "outputs": [],
   "source": [
    "import tensorflow as tf\n",
    "\n",
    "panis = tf.keras.models.load_model(\"mymodelv1.4.h5\")"
   ]
  },
  {
   "cell_type": "code",
   "execution_count": null,
   "id": "07481f2f",
   "metadata": {
    "scrolled": true
   },
   "outputs": [],
   "source": [
    "import torch\n",
    "\n",
    "model = torch.hub.load('ultralytics/yolov5', 'yolov5s', pretrained=True)"
   ]
  },
  {
   "cell_type": "code",
   "execution_count": null,
   "id": "47b8be43",
   "metadata": {},
   "outputs": [],
   "source": [
    "import numpy as np\n",
    "\n",
    "def preproc(img):\n",
    "    img = img / 255.0\n",
    "    img = tf.image.resize(img, [128, 128])\n",
    "    return img"
   ]
  },
  {
   "cell_type": "code",
   "execution_count": null,
   "id": "a685db03",
   "metadata": {},
   "outputs": [],
   "source": [
    "def score_frame(frame, model):\n",
    "    device = 'cuda' if torch.cuda.is_available() else 'cpu'\n",
    "    model.to(device)\n",
    "    frame = [frame]\n",
    "    results = model(frame)\n",
    "    labels = results.xyxyn[0][:, -1].numpy()\n",
    "    cord = results.xyxyn[0][:, :-1].numpy()\n",
    "    return labels, cord"
   ]
  },
  {
   "cell_type": "code",
   "execution_count": null,
   "id": "770ce3f1",
   "metadata": {
    "scrolled": true
   },
   "outputs": [],
   "source": [
    "def plot_boxes(results, frame, model):\n",
    "    labels, cord = results\n",
    "    n = len(labels)\n",
    "    x_shape, y_shape = frame.shape[1], frame.shape[0]\n",
    "    for i in range(n):\n",
    "        row = cord[i]\n",
    "        # If score is less than 0.2 we avoid making a prediction.\n",
    "        if row[4] < 0.2: \n",
    "            continue\n",
    "        x1 = int(row[0]*x_shape)\n",
    "        y1 = int(row[1]*y_shape)\n",
    "        x2 = int(row[2]*x_shape)\n",
    "        y2 = int(row[3]*y_shape)\n",
    "        \n",
    "        img = frame[y1:y2, x1:x2]\n",
    "        img = preproc(img)\n",
    "        img = tf.expand_dims(img, axis=0)\n",
    "        predictions = panis.predict(img)\n",
    "        predictions = predictions.flatten().tolist()\n",
    "        \n",
    "        pred_label = 'rotten' if predictions[0] > 0.5 else 'fresh'\n",
    "        bgr = (0, 0, 255) if predictions[0] > 0.5 else (0, 255, 0)\n",
    "        \n",
    "        classes = model.names # Get the name of label index\n",
    "        label_font = cv2.FONT_HERSHEY_SIMPLEX #Font for the label.\n",
    "        cv2.rectangle(frame, \\\n",
    "                      (x1, y1), (x2, y2), \\\n",
    "                       bgr, 2) #Plot the boxes\n",
    "        cv2.putText(frame,\\\n",
    "                    pred_label, \\\n",
    "                    (x1, y1), \\\n",
    "                    label_font, 0.9, bgr, 2) #Put a label over box.\n",
    "        return frame"
   ]
  },
  {
   "cell_type": "code",
   "execution_count": null,
   "id": "abab612e",
   "metadata": {},
   "outputs": [],
   "source": [
    "x_shape = int(stream.get(cv2.CAP_PROP_FRAME_WIDTH))\n",
    "y_shape = int(stream.get(cv2.CAP_PROP_FRAME_HEIGHT))\n",
    "tfc = int(stream.get(cv2.CAP_PROP_FRAME_COUNT))\n",
    "four_cc = cv2.VideoWriter_fourcc(*\"MJPG\")\n",
    "out = cv2.VideoWriter('sample.avi', four_cc, 20, (x_shape, y_shape))"
   ]
  },
  {
   "cell_type": "code",
   "execution_count": null,
   "id": "9e1fdfa4",
   "metadata": {
    "scrolled": false
   },
   "outputs": [],
   "source": [
    "import matplotlib.pyplot as plt\n",
    "from PIL import Image\n",
    "from IPython.display import display, Image\n",
    "import ipywidgets as widgets\n",
    "import threading\n",
    "\n",
    "def view():\n",
    "    display_handle=display(None, display_id=True)\n",
    "    while True:\n",
    "        ret, img = stream.read()\n",
    "        if ret is None:\n",
    "            continue\n",
    "        results = score_frame(img, model)\n",
    "        res = plot_boxes(results, img, model)\n",
    "        try:\n",
    "            _, frame = cv2.imencode('.jpeg', res)\n",
    "        except:\n",
    "            pass\n",
    "        display_handle.update(Image(data=frame.tobytes()))\n",
    "\n",
    "thread = threading.Thread(target=view)\n",
    "thread.start()"
   ]
  },
  {
   "cell_type": "code",
   "execution_count": null,
   "id": "5a282924",
   "metadata": {},
   "outputs": [],
   "source": [
    "stream.release()"
   ]
  },
  {
   "cell_type": "code",
   "execution_count": null,
   "id": "03193e1c",
   "metadata": {},
   "outputs": [],
   "source": [
    "torch.cuda.is_available()"
   ]
  },
  {
   "cell_type": "code",
   "execution_count": null,
   "id": "5f353e05",
   "metadata": {},
   "outputs": [],
   "source": []
  }
 ],
 "metadata": {
  "kernelspec": {
   "display_name": "Python 3 (ipykernel)",
   "language": "python",
   "name": "python3"
  },
  "language_info": {
   "codemirror_mode": {
    "name": "ipython",
    "version": 3
   },
   "file_extension": ".py",
   "mimetype": "text/x-python",
   "name": "python",
   "nbconvert_exporter": "python",
   "pygments_lexer": "ipython3",
   "version": "3.10.1"
  }
 },
 "nbformat": 4,
 "nbformat_minor": 5
}
